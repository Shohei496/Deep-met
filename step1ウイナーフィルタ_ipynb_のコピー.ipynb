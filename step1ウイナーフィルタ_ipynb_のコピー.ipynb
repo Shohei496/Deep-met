{
  "nbformat": 4,
  "nbformat_minor": 0,
  "metadata": {
    "colab": {
      "name": "step1ウイナーフィルタ.ipynb のコピー",
      "provenance": [],
      "collapsed_sections": [],
      "mount_file_id": "13cVlxH1nj9R-9xuyCOZQBl5ZjSubVmcZ",
      "authorship_tag": "ABX9TyPlQLPJjh8EGLY2XozcmHK4",
      "include_colab_link": true
    },
    "kernelspec": {
      "name": "python3",
      "display_name": "Python 3"
    },
    "language_info": {
      "name": "python"
    },
    "accelerator": "GPU"
  },
  "cells": [
    {
      "cell_type": "markdown",
      "metadata": {
        "id": "view-in-github",
        "colab_type": "text"
      },
      "source": [
        "<a href=\"https://colab.research.google.com/github/Shohei496/Deep-met/blob/circleci-project-setup/step1%E3%82%A6%E3%82%A4%E3%83%8A%E3%83%BC%E3%83%95%E3%82%A3%E3%83%AB%E3%82%BF_ipynb_%E3%81%AE%E3%82%B3%E3%83%94%E3%83%BC.ipynb\" target=\"_parent\"><img src=\"https://colab.research.google.com/assets/colab-badge.svg\" alt=\"Open In Colab\"/></a>"
      ]
    },
    {
      "cell_type": "code",
      "source": [
        "#0\n",
        "from google.colab import drive\n",
        "drive.mount('/content/drive')"
      ],
      "metadata": {
        "colab": {
          "base_uri": "https://localhost:8080/"
        },
        "id": "jzek76FYyg9z",
        "outputId": "47264652-c981-49f9-f84b-954772685e46"
      },
      "execution_count": null,
      "outputs": [
        {
          "output_type": "stream",
          "name": "stdout",
          "text": [
            "Mounted at /content/drive\n"
          ]
        }
      ]
    },
    {
      "cell_type": "code",
      "source": [
        "#1\n",
        "!sudo apt-get install libportaudio2\n",
        "!pip install sounddevice"
      ],
      "metadata": {
        "colab": {
          "base_uri": "https://localhost:8080/"
        },
        "id": "tUWcDTuSRzkN",
        "outputId": "3040152a-9010-444c-a890-426197c7ad3d"
      },
      "execution_count": null,
      "outputs": [
        {
          "output_type": "stream",
          "name": "stdout",
          "text": [
            "Reading package lists... Done\n",
            "Building dependency tree       \n",
            "Reading state information... Done\n",
            "The following NEW packages will be installed:\n",
            "  libportaudio2\n",
            "0 upgraded, 1 newly installed, 0 to remove and 39 not upgraded.\n",
            "Need to get 64.6 kB of archives.\n",
            "After this operation, 215 kB of additional disk space will be used.\n",
            "Get:1 http://archive.ubuntu.com/ubuntu bionic/universe amd64 libportaudio2 amd64 19.6.0-1 [64.6 kB]\n",
            "Fetched 64.6 kB in 1s (67.7 kB/s)\n",
            "debconf: unable to initialize frontend: Dialog\n",
            "debconf: (No usable dialog-like program is installed, so the dialog based frontend cannot be used. at /usr/share/perl5/Debconf/FrontEnd/Dialog.pm line 76, <> line 1.)\n",
            "debconf: falling back to frontend: Readline\n",
            "debconf: unable to initialize frontend: Readline\n",
            "debconf: (This frontend requires a controlling tty.)\n",
            "debconf: falling back to frontend: Teletype\n",
            "dpkg-preconfigure: unable to re-open stdin: \n",
            "Selecting previously unselected package libportaudio2:amd64.\n",
            "(Reading database ... 156210 files and directories currently installed.)\n",
            "Preparing to unpack .../libportaudio2_19.6.0-1_amd64.deb ...\n",
            "Unpacking libportaudio2:amd64 (19.6.0-1) ...\n",
            "Setting up libportaudio2:amd64 (19.6.0-1) ...\n",
            "Processing triggers for libc-bin (2.27-3ubuntu1.3) ...\n",
            "/sbin/ldconfig.real: /usr/local/lib/python3.7/dist-packages/ideep4py/lib/libmkldnn.so.0 is not a symbolic link\n",
            "\n",
            "Collecting sounddevice\n",
            "  Downloading sounddevice-0.4.4-py3-none-any.whl (31 kB)\n",
            "Requirement already satisfied: CFFI>=1.0 in /usr/local/lib/python3.7/dist-packages (from sounddevice) (1.15.0)\n",
            "Requirement already satisfied: pycparser in /usr/local/lib/python3.7/dist-packages (from CFFI>=1.0->sounddevice) (2.21)\n",
            "Installing collected packages: sounddevice\n",
            "Successfully installed sounddevice-0.4.4\n"
          ]
        }
      ]
    },
    {
      "cell_type": "code",
      "source": [
        "#2\n",
        "import wave as wave\n",
        "import numpy as np\n",
        "import scipy.signal as sp\n",
        "import sounddevice as sd\n",
        "import librosa\n",
        "import librosa.display\n",
        "import os\n",
        "import pandas as pd"
      ],
      "metadata": {
        "id": "x8luvpCSHfTm"
      },
      "execution_count": null,
      "outputs": []
    },
    {
      "cell_type": "code",
      "source": [
        "#3\n",
        "\n",
        "#####データの種類\n",
        "Type = 0      ###### 学習データをフィルタリングする場合は0を入力,　テストデータの場合は1を記入"
      ],
      "metadata": {
        "id": "NCSOfGhvv_Il"
      },
      "execution_count": null,
      "outputs": []
    },
    {
      "cell_type": "code",
      "source": [
        "#4\n",
        "\n",
        "base_dir = \"drive/MyDrive/\"\n",
        "esc_dir = os.path.join(base_dir, \"data\")\n",
        "audio_dir = os.path.join(esc_dir, \"audio/\")\n",
        "\n",
        "if Type < 1:\n",
        "   meta_file = os.path.join(esc_dir, \"meta/meta_data.csv\")\n",
        "else:\n",
        "   meta_file = os.path.join(esc_dir, \"meta/meta_data_test.csv\")\n",
        "#audio_dir2 = os.path.join(esc_dir, \"audioa/\")\n"
      ],
      "metadata": {
        "id": "POeIxnQ4HiZZ"
      },
      "execution_count": null,
      "outputs": []
    },
    {
      "cell_type": "code",
      "source": [
        "#5\n",
        "\n",
        "# load metadata\n",
        "meta_data = pd.read_csv(meta_file, encoding=\"shift-jis\")\n",
        "meta_data"
      ],
      "metadata": {
        "colab": {
          "base_uri": "https://localhost:8080/",
          "height": 419
        },
        "id": "1STDxREJHbny",
        "outputId": "bf595118-8e7a-4e4b-9a07-f3e00f9fd392"
      },
      "execution_count": null,
      "outputs": [
        {
          "output_type": "execute_result",
          "data": {
            "text/plain": [
              "          filename  target\n",
              "0    10a1.wav のコピー       0\n",
              "1      a2.wav のコピー       0\n",
              "2      a3.wav のコピー       0\n",
              "3      a4.wav のコピー       0\n",
              "4      a5.wav のコピー       0\n",
              "..             ...     ...\n",
              "242  8:45.wav のコピー       3\n",
              "243  8:46.wav のコピー       3\n",
              "244  8:47.wav のコピー       3\n",
              "245  8:48.wav のコピー       3\n",
              "246  8:49.wav のコピー       3\n",
              "\n",
              "[247 rows x 2 columns]"
            ],
            "text/html": [
              "\n",
              "  <div id=\"df-142ccc9a-1f6e-41de-9e61-ad5f72c9c198\">\n",
              "    <div class=\"colab-df-container\">\n",
              "      <div>\n",
              "<style scoped>\n",
              "    .dataframe tbody tr th:only-of-type {\n",
              "        vertical-align: middle;\n",
              "    }\n",
              "\n",
              "    .dataframe tbody tr th {\n",
              "        vertical-align: top;\n",
              "    }\n",
              "\n",
              "    .dataframe thead th {\n",
              "        text-align: right;\n",
              "    }\n",
              "</style>\n",
              "<table border=\"1\" class=\"dataframe\">\n",
              "  <thead>\n",
              "    <tr style=\"text-align: right;\">\n",
              "      <th></th>\n",
              "      <th>filename</th>\n",
              "      <th>target</th>\n",
              "    </tr>\n",
              "  </thead>\n",
              "  <tbody>\n",
              "    <tr>\n",
              "      <th>0</th>\n",
              "      <td>10a1.wav のコピー</td>\n",
              "      <td>0</td>\n",
              "    </tr>\n",
              "    <tr>\n",
              "      <th>1</th>\n",
              "      <td>a2.wav のコピー</td>\n",
              "      <td>0</td>\n",
              "    </tr>\n",
              "    <tr>\n",
              "      <th>2</th>\n",
              "      <td>a3.wav のコピー</td>\n",
              "      <td>0</td>\n",
              "    </tr>\n",
              "    <tr>\n",
              "      <th>3</th>\n",
              "      <td>a4.wav のコピー</td>\n",
              "      <td>0</td>\n",
              "    </tr>\n",
              "    <tr>\n",
              "      <th>4</th>\n",
              "      <td>a5.wav のコピー</td>\n",
              "      <td>0</td>\n",
              "    </tr>\n",
              "    <tr>\n",
              "      <th>...</th>\n",
              "      <td>...</td>\n",
              "      <td>...</td>\n",
              "    </tr>\n",
              "    <tr>\n",
              "      <th>242</th>\n",
              "      <td>8:45.wav のコピー</td>\n",
              "      <td>3</td>\n",
              "    </tr>\n",
              "    <tr>\n",
              "      <th>243</th>\n",
              "      <td>8:46.wav のコピー</td>\n",
              "      <td>3</td>\n",
              "    </tr>\n",
              "    <tr>\n",
              "      <th>244</th>\n",
              "      <td>8:47.wav のコピー</td>\n",
              "      <td>3</td>\n",
              "    </tr>\n",
              "    <tr>\n",
              "      <th>245</th>\n",
              "      <td>8:48.wav のコピー</td>\n",
              "      <td>3</td>\n",
              "    </tr>\n",
              "    <tr>\n",
              "      <th>246</th>\n",
              "      <td>8:49.wav のコピー</td>\n",
              "      <td>3</td>\n",
              "    </tr>\n",
              "  </tbody>\n",
              "</table>\n",
              "<p>247 rows × 2 columns</p>\n",
              "</div>\n",
              "      <button class=\"colab-df-convert\" onclick=\"convertToInteractive('df-142ccc9a-1f6e-41de-9e61-ad5f72c9c198')\"\n",
              "              title=\"Convert this dataframe to an interactive table.\"\n",
              "              style=\"display:none;\">\n",
              "        \n",
              "  <svg xmlns=\"http://www.w3.org/2000/svg\" height=\"24px\"viewBox=\"0 0 24 24\"\n",
              "       width=\"24px\">\n",
              "    <path d=\"M0 0h24v24H0V0z\" fill=\"none\"/>\n",
              "    <path d=\"M18.56 5.44l.94 2.06.94-2.06 2.06-.94-2.06-.94-.94-2.06-.94 2.06-2.06.94zm-11 1L8.5 8.5l.94-2.06 2.06-.94-2.06-.94L8.5 2.5l-.94 2.06-2.06.94zm10 10l.94 2.06.94-2.06 2.06-.94-2.06-.94-.94-2.06-.94 2.06-2.06.94z\"/><path d=\"M17.41 7.96l-1.37-1.37c-.4-.4-.92-.59-1.43-.59-.52 0-1.04.2-1.43.59L10.3 9.45l-7.72 7.72c-.78.78-.78 2.05 0 2.83L4 21.41c.39.39.9.59 1.41.59.51 0 1.02-.2 1.41-.59l7.78-7.78 2.81-2.81c.8-.78.8-2.07 0-2.86zM5.41 20L4 18.59l7.72-7.72 1.47 1.35L5.41 20z\"/>\n",
              "  </svg>\n",
              "      </button>\n",
              "      \n",
              "  <style>\n",
              "    .colab-df-container {\n",
              "      display:flex;\n",
              "      flex-wrap:wrap;\n",
              "      gap: 12px;\n",
              "    }\n",
              "\n",
              "    .colab-df-convert {\n",
              "      background-color: #E8F0FE;\n",
              "      border: none;\n",
              "      border-radius: 50%;\n",
              "      cursor: pointer;\n",
              "      display: none;\n",
              "      fill: #1967D2;\n",
              "      height: 32px;\n",
              "      padding: 0 0 0 0;\n",
              "      width: 32px;\n",
              "    }\n",
              "\n",
              "    .colab-df-convert:hover {\n",
              "      background-color: #E2EBFA;\n",
              "      box-shadow: 0px 1px 2px rgba(60, 64, 67, 0.3), 0px 1px 3px 1px rgba(60, 64, 67, 0.15);\n",
              "      fill: #174EA6;\n",
              "    }\n",
              "\n",
              "    [theme=dark] .colab-df-convert {\n",
              "      background-color: #3B4455;\n",
              "      fill: #D2E3FC;\n",
              "    }\n",
              "\n",
              "    [theme=dark] .colab-df-convert:hover {\n",
              "      background-color: #434B5C;\n",
              "      box-shadow: 0px 1px 3px 1px rgba(0, 0, 0, 0.15);\n",
              "      filter: drop-shadow(0px 1px 2px rgba(0, 0, 0, 0.3));\n",
              "      fill: #FFFFFF;\n",
              "    }\n",
              "  </style>\n",
              "\n",
              "      <script>\n",
              "        const buttonEl =\n",
              "          document.querySelector('#df-142ccc9a-1f6e-41de-9e61-ad5f72c9c198 button.colab-df-convert');\n",
              "        buttonEl.style.display =\n",
              "          google.colab.kernel.accessAllowed ? 'block' : 'none';\n",
              "\n",
              "        async function convertToInteractive(key) {\n",
              "          const element = document.querySelector('#df-142ccc9a-1f6e-41de-9e61-ad5f72c9c198');\n",
              "          const dataTable =\n",
              "            await google.colab.kernel.invokeFunction('convertToInteractive',\n",
              "                                                     [key], {});\n",
              "          if (!dataTable) return;\n",
              "\n",
              "          const docLinkHtml = 'Like what you see? Visit the ' +\n",
              "            '<a target=\"_blank\" href=https://colab.research.google.com/notebooks/data_table.ipynb>data table notebook</a>'\n",
              "            + ' to learn more about interactive tables.';\n",
              "          element.innerHTML = '';\n",
              "          dataTable['output_type'] = 'display_data';\n",
              "          await google.colab.output.renderOutput(dataTable, element);\n",
              "          const docLink = document.createElement('div');\n",
              "          docLink.innerHTML = docLinkHtml;\n",
              "          element.appendChild(docLink);\n",
              "        }\n",
              "      </script>\n",
              "    </div>\n",
              "  </div>\n",
              "  "
            ]
          },
          "metadata": {},
          "execution_count": 6
        }
      ]
    },
    {
      "cell_type": "code",
      "source": [
        "#6\n",
        "\n",
        "# get data size\n",
        "data_size = meta_data.shape\n",
        "print(data_size)"
      ],
      "metadata": {
        "colab": {
          "base_uri": "https://localhost:8080/"
        },
        "id": "KLhrvHsII9ae",
        "outputId": "7f18e4a1-0fb4-402c-f597-3909b98acd47"
      },
      "execution_count": null,
      "outputs": [
        {
          "output_type": "stream",
          "name": "stdout",
          "text": [
            "(247, 2)\n"
          ]
        }
      ]
    },
    {
      "cell_type": "code",
      "source": [
        "#7\n",
        "\n",
        "x = list(meta_data.loc[:,\"filename\"])\n",
        "y = list(meta_data.loc[:, \"target\"])"
      ],
      "metadata": {
        "id": "TlVRl4eyLT4v"
      },
      "execution_count": null,
      "outputs": []
    },
    {
      "cell_type": "code",
      "source": [
        "#8\n",
        "\n",
        "# load a sound data\n",
        "def load_sound_data(audio_dir, file_name):\n",
        "    file_path = os.path.join(audio_dir, file_name)\n",
        "    wavs = wave.open(file_path)\n",
        "    \n",
        "    return wavs\n"
      ],
      "metadata": {
        "id": "rWS500AsD9c6"
      },
      "execution_count": null,
      "outputs": []
    },
    {
      "cell_type": "code",
      "source": [
        "#9\n",
        "\n",
        "def save_np_data(filename, x, y, aug=None, rates=None):\n",
        "\n",
        "    np_targets = np.zeros(len(y))\n",
        "    for i in range(len(y)):\n",
        "              \n",
        "        wav = load_sound_data(audio_dir,  x[i])\n",
        "       \n",
        "        \n",
        "        #音声区間の長さを取る\n",
        "        \n",
        "        n_speech=wav.getnframes()\n",
        "\n",
        "        #サンプリングレートを取る\n",
        "        sampling_rate=wav.getframerate()\n",
        "        \n",
        "        #PCM形式の波形データを読み込み\n",
        "        speech_signal=wav.readframes(wav.getnframes())\n",
        "\n",
        "        #speech_signalを2バイトの数値列に変換\n",
        "       \n",
        "        speech_signal=np.frombuffer(speech_signal, dtype=np.int16)\n",
        "\n",
        "        #雑音だけの区間のサンプル数を設定\n",
        "        n_noise_only=40000\n",
        "\n",
        "        #全体の長さ\n",
        "        n_sample=n_noise_only+n_speech\n",
        "\n",
        "\n",
        "        #短時間フーリエ変換を行う\n",
        "        f,t,stft_data=sp.stft(speech_signal,fs=wav.getframerate(),window=\"hann\",nperseg=512,noverlap=256)\n",
        "\n",
        "        #入力信号の振幅を取得\n",
        "        amp=np.abs(stft_data)\n",
        "\n",
        "       #入力信号のパワーを取得\n",
        "        input_power=np.power(amp,2.0)\n",
        "\n",
        "        #雑音だけの区間のフレーム数\n",
        "        n_noise_only_frame=np.sum(t<(n_noise_only/sampling_rate))\n",
        "\n",
        "        #ウィナーフィルタのパラメータ\n",
        "        alpha=1 #デフォルト=1.0\n",
        "        mu=1    #デフォルト=10\n",
        "\n",
        "        #雑音のパワーを推定\n",
        "        noise_power=np.mean(np.power(amp,2.0)[:,:n_noise_only_frame],axis=1,keepdims=True)\n",
        "\n",
        "        #入力信号の音量の1%を下回らないようにする\n",
        "        eps=0.01*input_power\n",
        "\n",
        "        #出力信号の振幅を計算する\n",
        "        processed_power=np.maximum(input_power-alpha*noise_power,eps)\n",
        "\n",
        "        #比率\n",
        "        wf_ratio= processed_power/(processed_power+mu*noise_power)\n",
        "\n",
        "\n",
        "        #出力信号の振幅に入力信号の位相をかける\n",
        "        processed_stft_data=wf_ratio*stft_data\n",
        "\n",
        "\n",
        "        #時間領域の波形に戻す\n",
        "\n",
        "        t,processed_data_post=sp.istft(processed_stft_data,fs=wav.getframerate(),window=\"hann\",nperseg=512,noverlap=256)\n",
        "\n",
        "        #2バイトのデータに変換\n",
        "        processed_data_post=processed_data_post.astype(np.int16)\n",
        "\n",
        "\n",
        "        #雑音消去\n",
        "        processed_data_post=speech_signal-processed_data_post\n",
        "\n",
        "\n",
        "        #waveファイルに書き込む\n",
        "        wave_out = wave.open(audio_dir +'Filter/'+ x[i], 'w')\n",
        "        \n",
        "        #モノラル:1、ステレオ:2\n",
        "        wave_out.setnchannels(1)\n",
        "\n",
        "        #サンプルサイズ2byte\n",
        "        wave_out.setsampwidth(2)\n",
        "\n",
        "        #サンプリング周波数\n",
        "        wave_out.setframerate(wav.getframerate())\n",
        "\n",
        "        #データを書き込み\n",
        "\n",
        "        wave_out.writeframes(processed_data_post)\n",
        "\n",
        "        #ファイルを閉じる\n",
        "        wave_out.close()\n",
        "\n",
        "\n",
        "        #waveファイルを閉じる\n",
        "        wav.close()\n",
        " \n",
        "save_np_data(\"esc_melsp_test.npz\", x,  y)\n"
      ],
      "metadata": {
        "id": "vPyD5aCUKSs8"
      },
      "execution_count": null,
      "outputs": []
    }
  ]
}