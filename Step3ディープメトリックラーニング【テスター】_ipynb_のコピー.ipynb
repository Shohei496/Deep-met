{
  "cells": [
    {
      "cell_type": "markdown",
      "metadata": {
        "id": "view-in-github",
        "colab_type": "text"
      },
      "source": [
        "<a href=\"https://colab.research.google.com/github/Shohei496/Deep-met/blob/circleci-project-setup/Step3%E3%83%87%E3%82%A3%E3%83%BC%E3%83%97%E3%83%A1%E3%83%88%E3%83%AA%E3%83%83%E3%82%AF%E3%83%A9%E3%83%BC%E3%83%8B%E3%83%B3%E3%82%B0%E3%80%90%E3%83%86%E3%82%B9%E3%82%BF%E3%83%BC%E3%80%91_ipynb_%E3%81%AE%E3%82%B3%E3%83%94%E3%83%BC.ipynb\" target=\"_parent\"><img src=\"https://colab.research.google.com/assets/colab-badge.svg\" alt=\"Open In Colab\"/></a>"
      ]
    },
    {
      "cell_type": "code",
      "source": [
        "#0\n",
        "from google.colab import drive\n",
        "drive.mount('/content/drive')"
      ],
      "metadata": {
        "id": "LdEtD0Tz5SN3"
      },
      "execution_count": null,
      "outputs": []
    },
    {
      "cell_type": "code",
      "execution_count": null,
      "metadata": {
        "id": "9sl8WJuql6zu"
      },
      "outputs": [],
      "source": [
        "#1\n",
        "\n",
        "import os\n",
        "import random\n",
        "import numpy as np\n",
        "import pandas as pd\n",
        "import librosa\n",
        "import librosa.display\n",
        "import matplotlib.pyplot as plt\n",
        "import seaborn as sn\n",
        "from sklearn import model_selection\n",
        "from sklearn import preprocessing\n",
        "import IPython.display as ipd"
      ]
    },
    {
      "cell_type": "code",
      "source": [
        "#2\n",
        "\n",
        "# define directories\n",
        "\n",
        "base_dir = \"drive/MyDrive/\"\n",
        "esc_dir = os.path.join(base_dir, \"data\")\n",
        "audio_dir = os.path.join(esc_dir, \"audio/Filter/\")\n",
        "meta_file = os.path.join(esc_dir, \"meta/meta_data_test.csv\")#テストメタデータ\n",
        "#meta_file2 = os.path.join(esc_dir, \"meta/meta_data.csv\")#"
      ],
      "metadata": {
        "id": "dyGdwQIQou1g"
      },
      "execution_count": null,
      "outputs": []
    },
    {
      "cell_type": "code",
      "execution_count": null,
      "metadata": {
        "colab": {
          "base_uri": "https://localhost:8080/",
          "height": 328
        },
        "id": "cCa5jTmstIOO",
        "outputId": "0393e879-d573-4038-ea23-834d3924015b"
      },
      "outputs": [
        {
          "output_type": "execute_result",
          "data": {
            "text/plain": [
              "            filename  target\n",
              "0   a2noise.wav のコピー       1\n",
              "1   a3noise.wav のコピー       1\n",
              "2   a4noise.wav のコピー       1\n",
              "3   a5noise.wav のコピー       1\n",
              "4   a6noise.wav のコピー       1\n",
              "5   a7noise.wav のコピー       1\n",
              "6   a8noise.wav のコピー       1\n",
              "7   a9noise.wav のコピー       1\n",
              "8  a10noise.wav のコピー       1"
            ],
            "text/html": [
              "\n",
              "  <div id=\"df-155ea293-9168-460c-8416-af6838154bb5\">\n",
              "    <div class=\"colab-df-container\">\n",
              "      <div>\n",
              "<style scoped>\n",
              "    .dataframe tbody tr th:only-of-type {\n",
              "        vertical-align: middle;\n",
              "    }\n",
              "\n",
              "    .dataframe tbody tr th {\n",
              "        vertical-align: top;\n",
              "    }\n",
              "\n",
              "    .dataframe thead th {\n",
              "        text-align: right;\n",
              "    }\n",
              "</style>\n",
              "<table border=\"1\" class=\"dataframe\">\n",
              "  <thead>\n",
              "    <tr style=\"text-align: right;\">\n",
              "      <th></th>\n",
              "      <th>filename</th>\n",
              "      <th>target</th>\n",
              "    </tr>\n",
              "  </thead>\n",
              "  <tbody>\n",
              "    <tr>\n",
              "      <th>0</th>\n",
              "      <td>a2noise.wav のコピー</td>\n",
              "      <td>1</td>\n",
              "    </tr>\n",
              "    <tr>\n",
              "      <th>1</th>\n",
              "      <td>a3noise.wav のコピー</td>\n",
              "      <td>1</td>\n",
              "    </tr>\n",
              "    <tr>\n",
              "      <th>2</th>\n",
              "      <td>a4noise.wav のコピー</td>\n",
              "      <td>1</td>\n",
              "    </tr>\n",
              "    <tr>\n",
              "      <th>3</th>\n",
              "      <td>a5noise.wav のコピー</td>\n",
              "      <td>1</td>\n",
              "    </tr>\n",
              "    <tr>\n",
              "      <th>4</th>\n",
              "      <td>a6noise.wav のコピー</td>\n",
              "      <td>1</td>\n",
              "    </tr>\n",
              "    <tr>\n",
              "      <th>5</th>\n",
              "      <td>a7noise.wav のコピー</td>\n",
              "      <td>1</td>\n",
              "    </tr>\n",
              "    <tr>\n",
              "      <th>6</th>\n",
              "      <td>a8noise.wav のコピー</td>\n",
              "      <td>1</td>\n",
              "    </tr>\n",
              "    <tr>\n",
              "      <th>7</th>\n",
              "      <td>a9noise.wav のコピー</td>\n",
              "      <td>1</td>\n",
              "    </tr>\n",
              "    <tr>\n",
              "      <th>8</th>\n",
              "      <td>a10noise.wav のコピー</td>\n",
              "      <td>1</td>\n",
              "    </tr>\n",
              "  </tbody>\n",
              "</table>\n",
              "</div>\n",
              "      <button class=\"colab-df-convert\" onclick=\"convertToInteractive('df-155ea293-9168-460c-8416-af6838154bb5')\"\n",
              "              title=\"Convert this dataframe to an interactive table.\"\n",
              "              style=\"display:none;\">\n",
              "        \n",
              "  <svg xmlns=\"http://www.w3.org/2000/svg\" height=\"24px\"viewBox=\"0 0 24 24\"\n",
              "       width=\"24px\">\n",
              "    <path d=\"M0 0h24v24H0V0z\" fill=\"none\"/>\n",
              "    <path d=\"M18.56 5.44l.94 2.06.94-2.06 2.06-.94-2.06-.94-.94-2.06-.94 2.06-2.06.94zm-11 1L8.5 8.5l.94-2.06 2.06-.94-2.06-.94L8.5 2.5l-.94 2.06-2.06.94zm10 10l.94 2.06.94-2.06 2.06-.94-2.06-.94-.94-2.06-.94 2.06-2.06.94z\"/><path d=\"M17.41 7.96l-1.37-1.37c-.4-.4-.92-.59-1.43-.59-.52 0-1.04.2-1.43.59L10.3 9.45l-7.72 7.72c-.78.78-.78 2.05 0 2.83L4 21.41c.39.39.9.59 1.41.59.51 0 1.02-.2 1.41-.59l7.78-7.78 2.81-2.81c.8-.78.8-2.07 0-2.86zM5.41 20L4 18.59l7.72-7.72 1.47 1.35L5.41 20z\"/>\n",
              "  </svg>\n",
              "      </button>\n",
              "      \n",
              "  <style>\n",
              "    .colab-df-container {\n",
              "      display:flex;\n",
              "      flex-wrap:wrap;\n",
              "      gap: 12px;\n",
              "    }\n",
              "\n",
              "    .colab-df-convert {\n",
              "      background-color: #E8F0FE;\n",
              "      border: none;\n",
              "      border-radius: 50%;\n",
              "      cursor: pointer;\n",
              "      display: none;\n",
              "      fill: #1967D2;\n",
              "      height: 32px;\n",
              "      padding: 0 0 0 0;\n",
              "      width: 32px;\n",
              "    }\n",
              "\n",
              "    .colab-df-convert:hover {\n",
              "      background-color: #E2EBFA;\n",
              "      box-shadow: 0px 1px 2px rgba(60, 64, 67, 0.3), 0px 1px 3px 1px rgba(60, 64, 67, 0.15);\n",
              "      fill: #174EA6;\n",
              "    }\n",
              "\n",
              "    [theme=dark] .colab-df-convert {\n",
              "      background-color: #3B4455;\n",
              "      fill: #D2E3FC;\n",
              "    }\n",
              "\n",
              "    [theme=dark] .colab-df-convert:hover {\n",
              "      background-color: #434B5C;\n",
              "      box-shadow: 0px 1px 3px 1px rgba(0, 0, 0, 0.15);\n",
              "      filter: drop-shadow(0px 1px 2px rgba(0, 0, 0, 0.3));\n",
              "      fill: #FFFFFF;\n",
              "    }\n",
              "  </style>\n",
              "\n",
              "      <script>\n",
              "        const buttonEl =\n",
              "          document.querySelector('#df-155ea293-9168-460c-8416-af6838154bb5 button.colab-df-convert');\n",
              "        buttonEl.style.display =\n",
              "          google.colab.kernel.accessAllowed ? 'block' : 'none';\n",
              "\n",
              "        async function convertToInteractive(key) {\n",
              "          const element = document.querySelector('#df-155ea293-9168-460c-8416-af6838154bb5');\n",
              "          const dataTable =\n",
              "            await google.colab.kernel.invokeFunction('convertToInteractive',\n",
              "                                                     [key], {});\n",
              "          if (!dataTable) return;\n",
              "\n",
              "          const docLinkHtml = 'Like what you see? Visit the ' +\n",
              "            '<a target=\"_blank\" href=https://colab.research.google.com/notebooks/data_table.ipynb>data table notebook</a>'\n",
              "            + ' to learn more about interactive tables.';\n",
              "          element.innerHTML = '';\n",
              "          dataTable['output_type'] = 'display_data';\n",
              "          await google.colab.output.renderOutput(dataTable, element);\n",
              "          const docLink = document.createElement('div');\n",
              "          docLink.innerHTML = docLinkHtml;\n",
              "          element.appendChild(docLink);\n",
              "        }\n",
              "      </script>\n",
              "    </div>\n",
              "  </div>\n",
              "  "
            ]
          },
          "metadata": {},
          "execution_count": 3
        }
      ],
      "source": [
        "#3\n",
        "\n",
        "# load metadata\n",
        "meta_data = pd.read_csv(meta_file, encoding=\"shift-jis\")\n",
        "meta_data"
      ]
    },
    {
      "cell_type": "code",
      "execution_count": null,
      "metadata": {
        "colab": {
          "base_uri": "https://localhost:8080/"
        },
        "id": "nOfAfX5umNda",
        "outputId": "396847eb-3102-42ee-f0fd-59272da3aa01"
      },
      "outputs": [
        {
          "output_type": "stream",
          "name": "stdout",
          "text": [
            "(9, 2)\n"
          ]
        }
      ],
      "source": [
        "#4\n",
        "\n",
        "# get data size\n",
        "data_size = meta_data.shape\n",
        "print(data_size)"
      ]
    },
    {
      "cell_type": "code",
      "execution_count": null,
      "metadata": {
        "id": "8AXVi_lVmUhd"
      },
      "outputs": [],
      "source": [
        "#5\n",
        "\n",
        "# load a wave data\n",
        "def load_wave_data(audio_dir, file_name):\n",
        "    file_path = os.path.join(audio_dir, file_name)\n",
        "    x, fs = librosa.load(file_path, sr=44100)\n",
        "    x = x[0:160000]\n",
        "    max_data = np.max(x)\n",
        "    min_data = np.min(x)\n",
        "    x = (x-min_data)/(max_data-min_data)\n",
        "   # x = (x-min_data)/(max_data-min_data+1e-6)\n",
        "   # return _x-0.5\n",
        "    return x,fs"
      ]
    },
    {
      "cell_type": "code",
      "execution_count": null,
      "metadata": {
        "id": "ipQHKSj1mYCM"
      },
      "outputs": [],
      "source": [
        "#6\n",
        "\n",
        "# change wave data to mel-stft\n",
        "def calculate_melsp(x, n_fft=1024, hop_length=128):\n",
        "    \n",
        "    stft = np.abs(librosa.stft(x, n_fft=n_fft, hop_length=hop_length))**2\n",
        "    log_stft = librosa.power_to_db(stft)\n",
        "    melsp = log_stft\n",
        "\n",
        "    #melsp = librosa.feature.melspectrogram(S=log_stft,n_mels=128)\n",
        "\n",
        "\n",
        "    return melsp"
      ]
    },
    {
      "cell_type": "code",
      "execution_count": null,
      "metadata": {
        "id": "Nijks8NWmbEa"
      },
      "outputs": [],
      "source": [
        "#7\n",
        "\n",
        "# display wave in plots\n",
        "def show_wave(x):\n",
        "    plt.plot(x)\n",
        "    #plt.figure(figsize=(5,4))\n",
        "\n",
        "    plt.show()"
      ]
    },
    {
      "cell_type": "code",
      "execution_count": null,
      "metadata": {
        "id": "nW6nU6MPmeWK"
      },
      "outputs": [],
      "source": [
        "#8\n",
        "\n",
        "# display wave in heatmap\n",
        "def show_melsp(melsp, fs):\n",
        "    #librosa.display.specshow(melsp, sr=fs)\n",
        "    plt.figure(figsize=(20,4))\n",
        "    plt.imshow(melsp)\n",
        "    #plt.imshow(melsp, interpolation='nearest',vmin=-50,vmax=-30,cmap='jet')\n",
        "    plt.colorbar()\n",
        "    plt.show()"
      ]
    },
    {
      "cell_type": "code",
      "execution_count": null,
      "metadata": {
        "id": "W6ySox-6m87L"
      },
      "outputs": [],
      "source": [
        "#9\n",
        "\n",
        "# get training dataset and target dataset\n",
        "x = list(meta_data.loc[:,\"filename\"])\n",
        "y = list(meta_data.loc[:, \"target\"])\n",
        "x_test=x\n",
        "y_test=y\n",
        "\n",
        "                                                        "
      ]
    },
    {
      "cell_type": "code",
      "execution_count": null,
      "metadata": {
        "id": "Qk_1EoEqnEl2"
      },
      "outputs": [],
      "source": [
        "#10\n",
        "\n",
        "freq = 513\n",
        "time = 1251"
      ]
    },
    {
      "cell_type": "code",
      "execution_count": null,
      "metadata": {
        "id": "huoA3mMunIOX"
      },
      "outputs": [],
      "source": [
        "#11\n",
        "\n",
        "# save wave data in npz, with augmentation\n",
        "def save_np_data(filename, x, y,aug=None, rates=None):\n",
        "    name = np.zeros(len(x),dtype=str)\n",
        "    np_data = np.zeros(freq*time*len(x)).reshape(len(x), freq, time)\n",
        "    np_targets = np.zeros(len(y))\n",
        "    \n",
        "    for i in range(len(y)):\n",
        "        _x, fs = load_wave_data(audio_dir, x[i])\n",
        "        if aug is not None:\n",
        "            _x = aug(x=_x, rate=rates[i])\n",
        "        _x = calculate_melsp(_x)\n",
        "       # _x = show_melsp(_x, fs)\n",
        "        np_data[i] = _x\n",
        "        \n",
        "        np_targets[i] = y[i]\n",
        "\n",
        "        name[i] = x[i] \n",
        "        \n",
        "        \n",
        "    np.savez(filename, x=np_data, y=np_targets, z=name)  "
      ]
    },
    {
      "cell_type": "code",
      "execution_count": null,
      "metadata": {
        "id": "uVYEHQJTnLu4"
      },
      "outputs": [],
      "source": [
        "#12\n",
        "\n",
        "# save test dataset\n",
        "if not os.path.exists(\"esc_melsp_test.npz\"):\n",
        "    save_np_data(\"esc_melsp_test.npz\", x_test,  y_test)\n",
        "    #np.savez(\"esc_melsp_test.npz\",x=x_test,y=y_test)\n"
      ]
    },
    {
      "cell_type": "code",
      "execution_count": null,
      "metadata": {
        "colab": {
          "base_uri": "https://localhost:8080/"
        },
        "id": "Q5QRi4uOB3uk",
        "outputId": "c0297dbc-2199-403f-f032-8bbb725dd16b"
      },
      "outputs": [
        {
          "output_type": "stream",
          "name": "stdout",
          "text": [
            "Collecting pytorch-metric-learning\n",
            "  Downloading pytorch_metric_learning-1.2.1-py3-none-any.whl (107 kB)\n",
            "\u001b[?25l\r\u001b[K     |███                             | 10 kB 16.6 MB/s eta 0:00:01\r\u001b[K     |██████                          | 20 kB 7.4 MB/s eta 0:00:01\r\u001b[K     |█████████▏                      | 30 kB 5.0 MB/s eta 0:00:01\r\u001b[K     |████████████▏                   | 40 kB 5.0 MB/s eta 0:00:01\r\u001b[K     |███████████████▏                | 51 kB 4.6 MB/s eta 0:00:01\r\u001b[K     |██████████████████▎             | 61 kB 5.4 MB/s eta 0:00:01\r\u001b[K     |█████████████████████▎          | 71 kB 5.8 MB/s eta 0:00:01\r\u001b[K     |████████████████████████▍       | 81 kB 5.6 MB/s eta 0:00:01\r\u001b[K     |███████████████████████████▍    | 92 kB 6.2 MB/s eta 0:00:01\r\u001b[K     |██████████████████████████████▍ | 102 kB 6.8 MB/s eta 0:00:01\r\u001b[K     |████████████████████████████████| 107 kB 6.8 MB/s \n",
            "\u001b[?25hRequirement already satisfied: tqdm in /usr/local/lib/python3.7/dist-packages (from pytorch-metric-learning) (4.63.0)\n",
            "Requirement already satisfied: torchvision in /usr/local/lib/python3.7/dist-packages (from pytorch-metric-learning) (0.11.1+cu111)\n",
            "Requirement already satisfied: numpy in /usr/local/lib/python3.7/dist-packages (from pytorch-metric-learning) (1.21.5)\n",
            "Requirement already satisfied: torch>=1.6.0 in /usr/local/lib/python3.7/dist-packages (from pytorch-metric-learning) (1.10.0+cu111)\n",
            "Requirement already satisfied: scikit-learn in /usr/local/lib/python3.7/dist-packages (from pytorch-metric-learning) (1.0.2)\n",
            "Requirement already satisfied: typing-extensions in /usr/local/lib/python3.7/dist-packages (from torch>=1.6.0->pytorch-metric-learning) (3.10.0.2)\n",
            "Requirement already satisfied: scipy>=1.1.0 in /usr/local/lib/python3.7/dist-packages (from scikit-learn->pytorch-metric-learning) (1.4.1)\n",
            "Requirement already satisfied: threadpoolctl>=2.0.0 in /usr/local/lib/python3.7/dist-packages (from scikit-learn->pytorch-metric-learning) (3.1.0)\n",
            "Requirement already satisfied: joblib>=0.11 in /usr/local/lib/python3.7/dist-packages (from scikit-learn->pytorch-metric-learning) (1.1.0)\n",
            "Requirement already satisfied: pillow!=8.3.0,>=5.3.0 in /usr/local/lib/python3.7/dist-packages (from torchvision->pytorch-metric-learning) (7.1.2)\n",
            "Installing collected packages: pytorch-metric-learning\n",
            "Successfully installed pytorch-metric-learning-1.2.1\n",
            "Collecting faiss-gpu\n",
            "  Downloading faiss_gpu-1.7.2-cp37-cp37m-manylinux_2_17_x86_64.manylinux2014_x86_64.whl (85.5 MB)\n",
            "\u001b[K     |████████████████████████████████| 85.5 MB 142 kB/s \n",
            "\u001b[?25hInstalling collected packages: faiss-gpu\n",
            "Successfully installed faiss-gpu-1.7.2\n"
          ]
        }
      ],
      "source": [
        "#13\n",
        "\n",
        "!pip install pytorch-metric-learning\n",
        "!pip install faiss-gpu"
      ]
    },
    {
      "cell_type": "code",
      "execution_count": null,
      "metadata": {
        "id": "_gfUvXRvo04o"
      },
      "outputs": [],
      "source": [
        "#14\n",
        "\n",
        "import torch\n",
        "import torch.nn as nn\n",
        "import torch.nn.functional as F\n",
        "import torch.optim as optim\n",
        "from torchvision import datasets, transforms\n",
        "from torch.utils.data import Dataset, DataLoader\n",
        "from pytorch_metric_learning import distances, losses, miners, reducers, testers\n",
        "from pytorch_metric_learning.utils.accuracy_calculator import AccuracyCalculator\n",
        "from pytorch_metric_learning.utils import common_functions\n"
      ]
    },
    {
      "cell_type": "code",
      "execution_count": null,
      "metadata": {
        "id": "XdCST-e7EWyS"
      },
      "outputs": [],
      "source": [
        "#15\n",
        "\n",
        "freq = 513\n",
        "time = 1251\n",
        "test_num = len(x_test)\n",
        "#test_num = 7\n"
      ]
    },
    {
      "cell_type": "code",
      "execution_count": null,
      "metadata": {
        "id": "hB9DdkI90x7X"
      },
      "outputs": [],
      "source": [
        "#16\n",
        "\n",
        "test_file =  \"esc_melsp_test.npz\"\n",
        "#plus_file =  \"esc_melsp_plus.npz\"\n",
        "\n",
        "\n",
        "\n"
      ]
    },
    {
      "cell_type": "code",
      "execution_count": null,
      "metadata": {
        "id": "ow2YlBaPECBR"
      },
      "outputs": [],
      "source": [
        "#17\n",
        "\n",
        "test_data = np.load(test_file)\n",
        "\n",
        "\n",
        "test_data_x = torch.from_numpy(test_data[\"x\"]).float()\n",
        "test_data_y = torch.from_numpy(test_data[\"y\"]).long()\n",
        "#test_name = torch.from_numpy(test_data[\"z\"]).float()\n",
        "\n"
      ]
    },
    {
      "cell_type": "code",
      "execution_count": null,
      "metadata": {
        "id": "FhzeAVdjArGX"
      },
      "outputs": [],
      "source": [
        "#18\n",
        "\n",
        "mean = torch.mean(test_data_x, axis=0)\n",
        "std = torch.std(test_data_x, axis=0)\n",
        "\n",
        "test_data_x = (test_data_x - mean)/std\n",
        "test_data_x = test_data_x.unsqueeze(1)"
      ]
    },
    {
      "cell_type": "code",
      "execution_count": null,
      "metadata": {
        "id": "pwtseJ5I-C69"
      },
      "outputs": [],
      "source": [
        "#19\n",
        "\n",
        "test_datas = torch.utils.data.TensorDataset(test_data_x, test_data_y)\n",
        "test_loader = DataLoader(test_datas ,batch_size=1, shuffle=True)\n",
        "\n"
      ]
    },
    {
      "cell_type": "code",
      "execution_count": null,
      "metadata": {
        "colab": {
          "base_uri": "https://localhost:8080/"
        },
        "id": "3CGIY4FTp8id",
        "outputId": "d2382e48-c095-4d3d-e6fa-fe1c668fabe0"
      },
      "outputs": [
        {
          "output_type": "execute_result",
          "data": {
            "text/plain": [
              "<All keys matched successfully>"
            ]
          },
          "metadata": {},
          "execution_count": 20
        }
      ],
      "source": [
        "#20\n",
        "\n",
        "#####オリジナルモデルVer\n",
        "from torchvision import models\n",
        "model=models.resnet50()\n",
        "resnet_model=model\n",
        "#resnet_model.fc = nn.Linear(2048, 8)\n",
        "resnet_model.fc = common_functions.Identity()\n",
        "resnet_model.conv1 = nn.Conv2d(1, 64, kernel_size=(7, 7), stride=(2, 2), padding=(3, 3), bias=False)\n",
        "\n",
        "#resnet_model_output_size = model.fc.in_features\n",
        "\n",
        "device = torch.device(\"cuda\" if torch.cuda.is_available() else \"cpu\")\n",
        "resnet_model = torch.nn.DataParallel(resnet_model.to(device))\n",
        "resnet_model.load_state_dict(torch.load('drive/MyDrive/data/model/models.pth'))\n",
        "#resnet_model_output_size = model.fc.in_features"
      ]
    },
    {
      "cell_type": "code",
      "execution_count": null,
      "metadata": {
        "id": "uo8WZwJiLVOF"
      },
      "outputs": [],
      "source": [
        "#21\n",
        "\n",
        "### データ評価 ###\n",
        "\n",
        "device = torch.device(\"cuda\")\n",
        "\n",
        "transform = transforms.Compose(\n",
        "    [transforms.ToTensor(), transforms.Normalize((0.1307,), (0.3081,))]\n",
        ")\n",
        "\n",
        "\n",
        "\n",
        "plus_loader = test_loader\n",
        "model = resnet_model\n",
        "optimizer = optim.Adam(model.parameters(), lr=0.01)\n",
        "num_epochs = 1\n",
        "\n",
        "## pytorch-metric-learning stuff ###\n",
        "distance = distances.CosineSimilarity()\n",
        "reducer = reducers.ThresholdReducer(low=0)\n",
        "loss_func = losses.TripletMarginLoss(margin=0.2, distance=distance, reducer=reducer)\n",
        "mining_func = miners.TripletMarginMiner(\n",
        "    margin=0.2, distance=distance, type_of_triplets=\"semihard\"\n",
        ")\n",
        "accuracy_calculator = AccuracyCalculator(include=(\"precision_at_1\",), k=1)\n",
        "### pytorch-metric-learning stuff ###\n"
      ]
    },
    {
      "cell_type": "code",
      "execution_count": null,
      "metadata": {
        "id": "2baqWxmtcZkf"
      },
      "outputs": [],
      "source": [
        "#22\n",
        "\n",
        "####テスト実行#####\n",
        "\n",
        "#plus_predicted_metrics = []\n",
        "#plus_true_labels = []\n",
        "test_predicted_metrics = []\n",
        "test_true_labels = []\n",
        "\n",
        "def loss_plus(model, plus_loader):\n",
        " with torch.no_grad():\n",
        "        model.eval()\n",
        "        for i, (inputs,  labels) in enumerate(plus_loader):\n",
        "           # inputs, labels = inputs.to(device), labels.to(device)\n",
        "           # inputs = inputs.unsqueeze(1)\n",
        "            metric = model(inputs).detach().cpu().numpy()\n",
        "            metric = metric.reshape(metric.shape[0], metric.shape[1])\n",
        "            test_predicted_metrics.append(metric)\n",
        "            test_true_labels.append(labels.detach().cpu().numpy())\n",
        "           # if labels<1:\n",
        "           #    plus_predicted_metrics.append(metric)\n",
        "           #    plus_true_labels.append(labels.detach().cpu().numpy())\n",
        "           # else:\n",
        "           #    test_predicted_metrics.append(metric)\n",
        "           #    test_true_labels.append(labels.detach().cpu().numpy())\n",
        " #return np.concatenate(plus_predicted_metrics), np.concatenate(plus_true_labels),np.concatenate(test_predicted_metrics), np.concatenate(test_true_labels)\n",
        "\n",
        "        return np.concatenate(test_predicted_metrics), np.concatenate(test_true_labels)\n",
        "#plus_predicted_metrics,plus_true_labels,test_predicted_metrics,test_true_labels=loss_plus(model, plus_loader)\n",
        "test_predicted_metrics,test_true_labels=loss_plus(model, plus_loader)"
      ]
    },
    {
      "cell_type": "code",
      "source": [
        "#23\n",
        "\n",
        "####正常データロード\n",
        "metrics2 = np.load('drive/MyDrive/data/met/met.npy')\n",
        "lab2 =  np.load('drive/MyDrive/data/met/lab.npy')\n"
      ],
      "metadata": {
        "id": "Z3jEmlJy1g77"
      },
      "execution_count": null,
      "outputs": []
    },
    {
      "cell_type": "code",
      "execution_count": null,
      "metadata": {
        "colab": {
          "base_uri": "https://localhost:8080/",
          "height": 269
        },
        "id": "dz6Tm58ppINK",
        "outputId": "fcbc38bd-1c47-4004-c2cf-0b6030d6ca61"
      },
      "outputs": [
        {
          "output_type": "display_data",
          "data": {
            "text/plain": [
              "<Figure size 432x288 with 2 Axes>"
            ],
            "image/png": "[encoded data removed]"
          },
          "metadata": {
            "needs_background": "light"
          }
        }
      ],
      "source": [
        "#24\n",
        "\n",
        "import matplotlib.pyplot as plt\n",
        "from sklearn.decomposition import PCA \n",
        "#主成分分析器\n",
        "metrics = np.vstack((metrics2,test_predicted_metrics))\n",
        "metrics_labels = np.hstack((lab2,test_true_labels))\n",
        "\n",
        "\n",
        "\n",
        "pca_metrics = PCA(n_components=2, random_state=0).fit_transform(metrics)\n",
        "plt.scatter(pca_metrics[:, 0], pca_metrics[:, 1], c=metrics_labels)\n",
        "#plt.scatter(pca_metrics[:, 0], pca_metrics[:, 1], c=plus_true_labels[-1])\n",
        "plt.colorbar()\n",
        "plt.savefig(\"notrainBC.png\")\n",
        "plt.show()"
      ]
    },
    {
      "cell_type": "code",
      "source": [
        "#25\n",
        "\n",
        "####テストデータ　コサイン類似度計算\n",
        "\n",
        "from sklearn.metrics.pairwise import cosine_similarity\n",
        "\n",
        "sim1 = cosine_similarity(test_predicted_metrics,metrics2)\n",
        "sim1 = np.max(sim1, axis=-1)"
      ],
      "metadata": {
        "id": "Yy6hU0GwEvGl"
      },
      "execution_count": null,
      "outputs": []
    },
    {
      "cell_type": "code",
      "source": [
        "#26\n",
        "\n",
        "###閾値計算\n",
        "\n",
        "SIGMA = 2\n",
        "simsok = cosine_similarity(metrics2, metrics2)\n",
        "#simsok =  np.mean(simsok, axis=-1)\n",
        "m = np.mean(simsok, axis=-1)\n",
        "m = np.max(m)\n",
        "std = np.std(simsok, axis=-1)\n",
        "std = np.max(std)\n",
        "h = std*SIGMA\n",
        "dist_min, dist_max = m-h, m+h  # 各次元の正常範囲\n",
        "\n",
        "print(dist_min)\n",
        "dist = []\n",
        "dist.append(dist_min)\n",
        "#print(dist_max)"
      ],
      "metadata": {
        "colab": {
          "base_uri": "https://localhost:8080/"
        },
        "id": "PwNdL3roJaYx",
        "outputId": "fed11b31-4c98-40b1-b95f-5b4c95471244"
      },
      "execution_count": null,
      "outputs": [
        {
          "output_type": "stream",
          "name": "stdout",
          "text": [
            "0.999637777073076\n"
          ]
        }
      ]
    },
    {
      "cell_type": "code",
      "source": [
        "#27\n",
        "\n",
        "####グラフ描写\n",
        "\n",
        "import matplotlib.pyplot as plt\n",
        "\n",
        "x = range(len(sim1))\n",
        "height = sim1\n",
        "line_height = np.array([dist_min]*len(sim1)) \n",
        "\n",
        "fig, ax1 = plt.subplots()   \n",
        "\n",
        "ax1.bar(x, height)\n",
        "ax1.set_xlabel('Data Nnmber')\n",
        "ax1.set_ylabel('Cosine Similarity')\n",
        "plt.ylim(0, 1.05)\n",
        "\n",
        "ax2 = ax1.twinx()\n",
        "ax2.plot(x, line_height, linewidth=2, color=\"crimson\")\n",
        "plt.ylim(0, 1.05)\n",
        "\n",
        "plt.show()"
      ],
      "metadata": {
        "colab": {
          "base_uri": "https://localhost:8080/",
          "height": 279
        },
        "id": "hMXgjVZeXG9o",
        "outputId": "28197c6c-df52-42fa-8499-f241409c4796"
      },
      "execution_count": null,
      "outputs": [
        {
          "output_type": "display_data",
          "data": {
            "text/plain": [
              "<Figure size 432x288 with 2 Axes>"
            ],
            "image/png": "[encoded data removed]"
          },
          "metadata": {
            "needs_background": "light"
          }
        }
      ]
    }
  ],
  "metadata": {
    "accelerator": "GPU",
    "colab": {
      "collapsed_sections": [],
      "name": "Step3ディープメトリックラーニング【テスター】.ipynb のコピー",
      "provenance": [],
      "mount_file_id": "1MwBC3KZQ4YlD37d7R1bC3PaEMbUOFd1U",
      "authorship_tag": "ABX9TyNh+cZk84q6f7fdk+aN/Xve",
      "include_colab_link": true
    },
    "kernelspec": {
      "display_name": "Python 3",
      "name": "python3"
    },
    "language_info": {
      "name": "python"
    }
  },
  "nbformat": 4,
  "nbformat_minor": 0
}